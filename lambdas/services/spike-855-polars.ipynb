{
 "cells": [
  {
   "metadata": {
    "ExecuteTime": {
     "end_time": "2024-05-13T16:13:00.739330Z",
     "start_time": "2024-05-13T16:13:00.733496Z"
    }
   },
   "cell_type": "code",
   "source": [
    "from decimal import Decimal\n",
    "\n",
    "stat_table_items = [{'Date': '20240507', 'OdsCode': 'H81109', 'StatisticID': 'ApplicationData#d26b65af-530b-4d8e-a919-4999650f5d48', 'ActiveUserIdsHashed': ['4873620d0b476b13ee571a28cc315870', 'fake_user_id_hashed', '2nd_fake_user_id_hashed']}, {'Date': '20240509', 'OdsCode': 'H81109', 'StatisticID': 'ApplicationData#d26b65af-530b-4d8e-a919-4999650f5d48', 'ActiveUserIdsHashed': ['4873620d0b476b13ee571a28cc315870', 'ba81803adac3c816b6cbaf67bf33022a']}, {'Date': '20240509', 'OdsCode': 'M85143', 'StatisticID': 'ApplicationData#f2ef5173-485b-45e2-ba7d-b5bf6594c4f0', 'ActiveUserIdsHashed': ['6f1af742e351ce63d8ed275d4bec8d8f']}, {'Date': '20240509', 'DailyCountStored': Decimal('0'), 'NumberOfPatients': Decimal('4'), 'AverageRecordsPerPatient': Decimal('4.5'), 'DailyCountDownloaded': '4', 'DailyCountViewed': '35', 'OdsCode': 'M85143', 'DailyCountDeleted': '1', 'StatisticID': 'OrganisationData#6301dea1-996a-4f9b-98b8-a05cec4835d7'}, {'Date': '20240509', 'DailyCountStored': Decimal('0'), 'NumberOfPatients': Decimal('9'), 'AverageRecordsPerPatient': Decimal('2.777777777777777777777777778'), 'DailyCountDownloaded': '1', 'DailyCountViewed': '15', 'OdsCode': 'H81109', 'DailyCountDeleted': '1', 'StatisticID': 'OrganisationData#6d5a4847-4e9a-48d8-93c3-68bede2388a0'}, {'TotalSizeOfRecordsInMegabytes': Decimal('2.19059467315673828125'), 'Date': '20240509', 'TotalNumberOfRecords': Decimal('25'), 'NumberOfDocumentTypes': Decimal('1'), 'OdsCode': 'H81109', 'StatisticID': 'RecordStoreData#64f00ad8-8d11-4721-9111-48ec3ecf8ce8'}, {'TotalSizeOfRecordsInMegabytes': Decimal('1.7578678131103515625'), 'Date': '20240509', 'TotalNumberOfRecords': Decimal('18'), 'NumberOfDocumentTypes': Decimal('1'), 'OdsCode': 'M85143', 'StatisticID': 'RecordStoreData#a06eaca2-8a5d-4ffc-ad0b-72b48c3dae82'}, {'TotalSizeOfRecordsInMegabytes': Decimal('0.335521697998046875'), 'Date': '20240509', 'TotalNumberOfRecords': Decimal('0'), 'NumberOfDocumentTypes': Decimal('1'), 'OdsCode': 'ODS_CODE_UNKNOWN', 'StatisticID': 'RecordStoreData#a74412b5-0700-4d18-96ca-809b646fbf8e'}, {'Date': '20240508', 'DailyCountStored': Decimal('5'), 'NumberOfPatients': Decimal('5'), 'AverageRecordsPerPatient': Decimal('3'), 'DailyCountDownloaded': '5', 'DailyCountViewed': '5', 'DailyCountDeleted': '5', 'OdsCode': 'H81109', 'StatisticID': 'OrganisationData#320666AD-30C7-4853-AAA1-91EC0E88924C'}, {'Date': '20240513', 'OdsCode': 'H81109', 'StatisticID': 'ApplicationData#48937633-8422-4bf5-bb57-f30fca021f3b', 'ActiveUserIdsHashed': ['6f1af742e351ce63d8ed275d4bec8d8f']}, {'Date': '20240513', 'OdsCode': 'M85143', 'StatisticID': 'ApplicationData#7e2f23cc-8922-42dc-83fc-faf86bcdf771', 'ActiveUserIdsHashed': ['6f1af742e351ce63d8ed275d4bec8d8f']}, {'Date': '20240513', 'DailyCountStored': Decimal('0'), 'NumberOfPatients': Decimal('9'), 'AverageRecordsPerPatient': Decimal('2.777777777777777777777777778'), 'DailyCountDownloaded': Decimal('0'), 'DailyCountViewed': Decimal('0'), 'OdsCode': 'H81109', 'DailyCountDeleted': Decimal('0'), 'StatisticID': 'OrganisationData#cdc7cef8-16c3-4cbc-b4b1-b47756f29847'}, {'Date': '20240513', 'DailyCountStored': Decimal('0'), 'NumberOfPatients': Decimal('4'), 'AverageRecordsPerPatient': Decimal('4.5'), 'DailyCountDownloaded': Decimal('0'), 'DailyCountViewed': Decimal('0'), 'OdsCode': 'M85143', 'DailyCountDeleted': Decimal('0'), 'StatisticID': 'OrganisationData#ede69cb8-ad8c-405f-abe4-e69c80db6348'}, {'TotalSizeOfRecordsInMegabytes': Decimal('0.88645648956298828125'), 'Date': '20240513', 'TotalNumberOfRecords': Decimal('18'), 'NumberOfDocumentTypes': Decimal('1'), 'OdsCode': 'M85143', 'StatisticID': 'RecordStoreData#675241cd-3615-4459-a927-fc0b4f1c8547'}, {'TotalSizeOfRecordsInMegabytes': Decimal('1.41417980194091796875'), 'Date': '20240513', 'TotalNumberOfRecords': Decimal('25'), 'NumberOfDocumentTypes': Decimal('1'), 'OdsCode': 'H81109', 'StatisticID': 'RecordStoreData#eaa28be5-cea0-40de-b668-449f8f1137d5'}]\n"
   ],
   "id": "388f911dba1d1f4",
   "outputs": [],
   "execution_count": 2
  },
  {
   "metadata": {
    "ExecuteTime": {
     "end_time": "2024-05-14T09:07:05.817341Z",
     "start_time": "2024-05-14T09:07:05.810866Z"
    }
   },
   "cell_type": "code",
   "source": [
    "from models.statistics import (\n",
    "    load_from_dynamodb_items,\n",
    ")\n",
    "import polars as pl\n",
    "import polars.selectors as cs\n",
    "\n",
    "loaded_data = load_from_dynamodb_items(stat_table_items)\n",
    "\n",
    "df = pl.DataFrame(loaded_data.record_store_data).with_columns(cs.by_dtype(pl.datatypes.Decimal).cast(pl.Float64))\n",
    "\n",
    "get_most_recent_record = pl.all().sort_by('date').last()\n",
    "summarised_data = df.group_by('ods_code').agg(get_most_recent_record)\n",
    "\n",
    "summarised_data\n"
   ],
   "id": "a5b21f58723b05b2",
   "outputs": [
    {
     "data": {
      "text/plain": [
       "shape: (3, 6)\n",
       "┌─────────────────┬─────────────────┬──────────┬─────────────────┬────────────────┬────────────────┐\n",
       "│ ods_code        ┆ statistic_id    ┆ date     ┆ total_number_of ┆ number_of_docu ┆ total_size_of_ │\n",
       "│ ---             ┆ ---             ┆ ---      ┆ _records        ┆ ment_types     ┆ records_in_meg │\n",
       "│ str             ┆ str             ┆ str      ┆ ---             ┆ ---            ┆ ab…            │\n",
       "│                 ┆                 ┆          ┆ i64             ┆ i64            ┆ ---            │\n",
       "│                 ┆                 ┆          ┆                 ┆                ┆ f64            │\n",
       "╞═════════════════╪═════════════════╪══════════╪═════════════════╪════════════════╪════════════════╡\n",
       "│ M85143          ┆ 675241cd-3615-4 ┆ 20240513 ┆ 18              ┆ 1              ┆ 0.886456       │\n",
       "│                 ┆ 459-a927-fc0b4f ┆          ┆                 ┆                ┆                │\n",
       "│                 ┆ …               ┆          ┆                 ┆                ┆                │\n",
       "│ ODS_CODE_UNKNOW ┆ a74412b5-0700-4 ┆ 20240509 ┆ 0               ┆ 1              ┆ 0.335522       │\n",
       "│ N               ┆ d18-96ca-809b64 ┆          ┆                 ┆                ┆                │\n",
       "│                 ┆ …               ┆          ┆                 ┆                ┆                │\n",
       "│ H81109          ┆ eaa28be5-cea0-4 ┆ 20240513 ┆ 25              ┆ 1              ┆ 1.41418        │\n",
       "│                 ┆ 0de-b668-449f8f ┆          ┆                 ┆                ┆                │\n",
       "│                 ┆ …               ┆          ┆                 ┆                ┆                │\n",
       "└─────────────────┴─────────────────┴──────────┴─────────────────┴────────────────┴────────────────┘"
      ],
      "text/html": [
       "<div><style>\n",
       ".dataframe > thead > tr,\n",
       ".dataframe > tbody > tr {\n",
       "  text-align: right;\n",
       "  white-space: pre-wrap;\n",
       "}\n",
       "</style>\n",
       "<small>shape: (3, 6)</small><table border=\"1\" class=\"dataframe\"><thead><tr><th>ods_code</th><th>statistic_id</th><th>date</th><th>total_number_of_records</th><th>number_of_document_types</th><th>total_size_of_records_in_megabytes</th></tr><tr><td>str</td><td>str</td><td>str</td><td>i64</td><td>i64</td><td>f64</td></tr></thead><tbody><tr><td>&quot;M85143&quot;</td><td>&quot;675241cd-3615-4459-a927-fc0b4f…</td><td>&quot;20240513&quot;</td><td>18</td><td>1</td><td>0.886456</td></tr><tr><td>&quot;ODS_CODE_UNKNOWN&quot;</td><td>&quot;a74412b5-0700-4d18-96ca-809b64…</td><td>&quot;20240509&quot;</td><td>0</td><td>1</td><td>0.335522</td></tr><tr><td>&quot;H81109&quot;</td><td>&quot;eaa28be5-cea0-40de-b668-449f8f…</td><td>&quot;20240513&quot;</td><td>25</td><td>1</td><td>1.41418</td></tr></tbody></table></div>"
      ]
     },
     "execution_count": 73,
     "metadata": {},
     "output_type": "execute_result"
    }
   ],
   "execution_count": 73
  },
  {
   "metadata": {
    "ExecuteTime": {
     "end_time": "2024-05-14T08:34:55.985432Z",
     "start_time": "2024-05-14T08:34:55.981136Z"
    }
   },
   "cell_type": "code",
   "source": [
    "df = pl.DataFrame(loaded_data.organisation_data).with_columns(cs.by_dtype(pl.datatypes.Decimal).cast(pl.Float64))\n",
    "\n",
    "sum_weekly_count = cs.matches(\"daily\").sum().name.map(lambda column_name: column_name.replace(\"daily\", \"weekly\"))\n",
    "take_average_for_patient_record = pl.col(\"average_records_per_patient\").mean()\n",
    "get_most_recent_number_of_patients = pl.col(\"number_of_patients\").sort_by('date').last()\n",
    "\n",
    "df.group_by('ods_code').agg(sum_weekly_count, take_average_for_patient_record, get_most_recent_number_of_patients)\n"
   ],
   "id": "da91983bc0ca8464",
   "outputs": [
    {
     "data": {
      "text/plain": [
       "shape: (2, 7)\n",
       "┌──────────┬──────────────┬──────────────┬──────────────┬──────────────┬─────────────┬─────────────┐\n",
       "│ ods_code ┆ weekly_count ┆ weekly_count ┆ weekly_count ┆ weekly_count ┆ average_rec ┆ number_of_p │\n",
       "│ ---      ┆ _stored      ┆ _viewed      ┆ _downloaded  ┆ _deleted     ┆ ords_per_pa ┆ atients     │\n",
       "│ str      ┆ ---          ┆ ---          ┆ ---          ┆ ---          ┆ tient       ┆ ---         │\n",
       "│          ┆ i64          ┆ i64          ┆ i64          ┆ i64          ┆ ---         ┆ i64         │\n",
       "│          ┆              ┆              ┆              ┆              ┆ f64         ┆             │\n",
       "╞══════════╪══════════════╪══════════════╪══════════════╪══════════════╪═════════════╪═════════════╡\n",
       "│ H81109   ┆ 5            ┆ 20           ┆ 6            ┆ 6            ┆ 2.851852    ┆ 9           │\n",
       "│ M85143   ┆ 0            ┆ 35           ┆ 4            ┆ 1            ┆ 4.5         ┆ 4           │\n",
       "└──────────┴──────────────┴──────────────┴──────────────┴──────────────┴─────────────┴─────────────┘"
      ],
      "text/html": [
       "<div><style>\n",
       ".dataframe > thead > tr,\n",
       ".dataframe > tbody > tr {\n",
       "  text-align: right;\n",
       "  white-space: pre-wrap;\n",
       "}\n",
       "</style>\n",
       "<small>shape: (2, 7)</small><table border=\"1\" class=\"dataframe\"><thead><tr><th>ods_code</th><th>weekly_count_stored</th><th>weekly_count_viewed</th><th>weekly_count_downloaded</th><th>weekly_count_deleted</th><th>average_records_per_patient</th><th>number_of_patients</th></tr><tr><td>str</td><td>i64</td><td>i64</td><td>i64</td><td>i64</td><td>f64</td><td>i64</td></tr></thead><tbody><tr><td>&quot;H81109&quot;</td><td>5</td><td>20</td><td>6</td><td>6</td><td>2.851852</td><td>9</td></tr><tr><td>&quot;M85143&quot;</td><td>0</td><td>35</td><td>4</td><td>1</td><td>4.5</td><td>4</td></tr></tbody></table></div>"
      ]
     },
     "execution_count": 58,
     "metadata": {},
     "output_type": "execute_result"
    }
   ],
   "execution_count": 58
  },
  {
   "metadata": {
    "ExecuteTime": {
     "end_time": "2024-05-14T08:51:43.976298Z",
     "start_time": "2024-05-14T08:51:43.971846Z"
    }
   },
   "cell_type": "code",
   "source": [
    "df = pl.DataFrame(loaded_data.application_data)\n",
    "count_unique_ids = pl.concat_list('active_user_ids_hashed').flatten().unique().len().alias('Active users count')\n",
    "\n",
    "df.group_by('ods_code').agg(count_unique_ids)"
   ],
   "id": "672322963d4dee4f",
   "outputs": [
    {
     "data": {
      "text/plain": [
       "shape: (2, 2)\n",
       "┌──────────┬────────────────────┐\n",
       "│ ods_code ┆ Active users count │\n",
       "│ ---      ┆ ---                │\n",
       "│ str      ┆ u32                │\n",
       "╞══════════╪════════════════════╡\n",
       "│ H81109   ┆ 5                  │\n",
       "│ M85143   ┆ 1                  │\n",
       "└──────────┴────────────────────┘"
      ],
      "text/html": [
       "<div><style>\n",
       ".dataframe > thead > tr,\n",
       ".dataframe > tbody > tr {\n",
       "  text-align: right;\n",
       "  white-space: pre-wrap;\n",
       "}\n",
       "</style>\n",
       "<small>shape: (2, 2)</small><table border=\"1\" class=\"dataframe\"><thead><tr><th>ods_code</th><th>Active users count</th></tr><tr><td>str</td><td>u32</td></tr></thead><tbody><tr><td>&quot;H81109&quot;</td><td>5</td></tr><tr><td>&quot;M85143&quot;</td><td>1</td></tr></tbody></table></div>"
      ]
     },
     "execution_count": 70,
     "metadata": {},
     "output_type": "execute_result"
    }
   ],
   "execution_count": 70
  },
  {
   "metadata": {},
   "cell_type": "code",
   "outputs": [],
   "execution_count": null,
   "source": "",
   "id": "e068a3242b0bd8b"
  }
 ],
 "metadata": {
  "kernelspec": {
   "display_name": "Python 3",
   "language": "python",
   "name": "python3"
  },
  "language_info": {
   "codemirror_mode": {
    "name": "ipython",
    "version": 2
   },
   "file_extension": ".py",
   "mimetype": "text/x-python",
   "name": "python",
   "nbconvert_exporter": "python",
   "pygments_lexer": "ipython2",
   "version": "2.7.6"
  }
 },
 "nbformat": 4,
 "nbformat_minor": 5
}
